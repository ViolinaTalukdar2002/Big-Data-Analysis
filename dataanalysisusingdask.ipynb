{
 "cells": [
  {
   "cell_type": "markdown",
   "id": "e30fb3e4",
   "metadata": {},
   "source": [
    "# Install DASK"
   ]
  },
  {
   "cell_type": "code",
   "execution_count": 1,
   "id": "37075635",
   "metadata": {},
   "outputs": [
    {
     "name": "stdout",
     "output_type": "stream",
     "text": [
      "Requirement already satisfied: dask[complete] in c:\\users\\admin\\anaconda3\\lib\\site-packages (2022.7.0)\n",
      "Requirement already satisfied: notebook in c:\\users\\admin\\anaconda3\\lib\\site-packages (6.5.2)\n",
      "Requirement already satisfied: partd>=0.3.10 in c:\\users\\admin\\anaconda3\\lib\\site-packages (from dask[complete]) (1.2.0)\n",
      "Requirement already satisfied: cloudpickle>=1.1.1 in c:\\users\\admin\\anaconda3\\lib\\site-packages (from dask[complete]) (2.0.0)\n",
      "Requirement already satisfied: pyyaml>=5.3.1 in c:\\users\\admin\\anaconda3\\lib\\site-packages (from dask[complete]) (6.0)\n",
      "Requirement already satisfied: toolz>=0.8.2 in c:\\users\\admin\\anaconda3\\lib\\site-packages (from dask[complete]) (0.12.0)\n",
      "Requirement already satisfied: fsspec>=0.6.0 in c:\\users\\admin\\anaconda3\\lib\\site-packages (from dask[complete]) (2022.11.0)\n",
      "Requirement already satisfied: packaging>=20.0 in c:\\users\\admin\\anaconda3\\lib\\site-packages (from dask[complete]) (22.0)\n",
      "Requirement already satisfied: pandas>=1.0 in c:\\users\\admin\\anaconda3\\lib\\site-packages (from dask[complete]) (1.5.3)\n",
      "Requirement already satisfied: jinja2 in c:\\users\\admin\\anaconda3\\lib\\site-packages (from dask[complete]) (3.1.2)\n",
      "Requirement already satisfied: bokeh>=2.4.2 in c:\\users\\admin\\anaconda3\\lib\\site-packages (from dask[complete]) (2.4.3)\n",
      "Requirement already satisfied: distributed==2022.7.0 in c:\\users\\admin\\anaconda3\\lib\\site-packages (from dask[complete]) (2022.7.0)\n",
      "Requirement already satisfied: numpy>=1.18 in c:\\users\\admin\\anaconda3\\lib\\site-packages (from dask[complete]) (1.23.5)\n",
      "Requirement already satisfied: tornado<6.2,>=6.0.3 in c:\\users\\admin\\anaconda3\\lib\\site-packages (from distributed==2022.7.0->dask[complete]) (6.1)\n",
      "Requirement already satisfied: locket>=1.0.0 in c:\\users\\admin\\anaconda3\\lib\\site-packages (from distributed==2022.7.0->dask[complete]) (1.0.0)\n",
      "Requirement already satisfied: zict>=0.1.3 in c:\\users\\admin\\anaconda3\\lib\\site-packages (from distributed==2022.7.0->dask[complete]) (2.1.0)\n",
      "Requirement already satisfied: click>=6.6 in c:\\users\\admin\\anaconda3\\lib\\site-packages (from distributed==2022.7.0->dask[complete]) (8.0.4)\n",
      "Requirement already satisfied: msgpack>=0.6.0 in c:\\users\\admin\\anaconda3\\lib\\site-packages (from distributed==2022.7.0->dask[complete]) (1.0.3)\n",
      "Requirement already satisfied: tblib>=1.6.0 in c:\\users\\admin\\anaconda3\\lib\\site-packages (from distributed==2022.7.0->dask[complete]) (1.7.0)\n",
      "Requirement already satisfied: psutil>=5.0 in c:\\users\\admin\\anaconda3\\lib\\site-packages (from distributed==2022.7.0->dask[complete]) (5.9.0)\n",
      "Requirement already satisfied: urllib3 in c:\\users\\admin\\anaconda3\\lib\\site-packages (from distributed==2022.7.0->dask[complete]) (1.26.14)\n",
      "Requirement already satisfied: sortedcontainers!=2.0.0,!=2.0.1 in c:\\users\\admin\\anaconda3\\lib\\site-packages (from distributed==2022.7.0->dask[complete]) (2.4.0)\n",
      "Requirement already satisfied: prometheus-client in c:\\users\\admin\\anaconda3\\lib\\site-packages (from notebook) (0.14.1)\n",
      "Requirement already satisfied: nbclassic>=0.4.7 in c:\\users\\admin\\anaconda3\\lib\\site-packages (from notebook) (0.5.2)\n",
      "Requirement already satisfied: terminado>=0.8.3 in c:\\users\\admin\\anaconda3\\lib\\site-packages (from notebook) (0.17.1)\n",
      "Requirement already satisfied: ipykernel in c:\\users\\admin\\anaconda3\\lib\\site-packages (from notebook) (6.19.2)\n",
      "Requirement already satisfied: traitlets>=4.2.1 in c:\\users\\admin\\anaconda3\\lib\\site-packages (from notebook) (5.7.1)\n",
      "Requirement already satisfied: pyzmq>=17 in c:\\users\\admin\\anaconda3\\lib\\site-packages (from notebook) (23.2.0)\n",
      "Requirement already satisfied: nbformat in c:\\users\\admin\\anaconda3\\lib\\site-packages (from notebook) (5.7.0)\n",
      "Requirement already satisfied: nbconvert>=5 in c:\\users\\admin\\anaconda3\\lib\\site-packages (from notebook) (6.5.4)\n",
      "Requirement already satisfied: nest-asyncio>=1.5 in c:\\users\\admin\\anaconda3\\lib\\site-packages (from notebook) (1.5.6)\n",
      "Requirement already satisfied: Send2Trash>=1.8.0 in c:\\users\\admin\\anaconda3\\lib\\site-packages (from notebook) (1.8.0)\n",
      "Requirement already satisfied: argon2-cffi in c:\\users\\admin\\anaconda3\\lib\\site-packages (from notebook) (21.3.0)\n",
      "Requirement already satisfied: jupyter-client>=5.3.4 in c:\\users\\admin\\anaconda3\\lib\\site-packages (from notebook) (7.3.4)\n",
      "Requirement already satisfied: jupyter-core>=4.6.1 in c:\\users\\admin\\anaconda3\\lib\\site-packages (from notebook) (5.2.0)\n",
      "Requirement already satisfied: ipython-genutils in c:\\users\\admin\\anaconda3\\lib\\site-packages (from notebook) (0.2.0)\n",
      "Requirement already satisfied: pillow>=7.1.0 in c:\\users\\admin\\anaconda3\\lib\\site-packages (from bokeh>=2.4.2->dask[complete]) (9.4.0)\n",
      "Requirement already satisfied: typing-extensions>=3.10.0 in c:\\users\\admin\\anaconda3\\lib\\site-packages (from bokeh>=2.4.2->dask[complete]) (4.14.0)\n",
      "Requirement already satisfied: MarkupSafe>=2.0 in c:\\users\\admin\\anaconda3\\lib\\site-packages (from jinja2->dask[complete]) (2.1.1)\n",
      "Requirement already satisfied: python-dateutil>=2.8.2 in c:\\users\\admin\\anaconda3\\lib\\site-packages (from jupyter-client>=5.3.4->notebook) (2.8.2)\n",
      "Requirement already satisfied: entrypoints in c:\\users\\admin\\anaconda3\\lib\\site-packages (from jupyter-client>=5.3.4->notebook) (0.4)\n",
      "Requirement already satisfied: platformdirs>=2.5 in c:\\users\\admin\\anaconda3\\lib\\site-packages (from jupyter-core>=4.6.1->notebook) (2.5.2)\n",
      "Requirement already satisfied: pywin32>=1.0 in c:\\users\\admin\\anaconda3\\lib\\site-packages (from jupyter-core>=4.6.1->notebook) (305.1)\n",
      "Requirement already satisfied: notebook-shim>=0.1.0 in c:\\users\\admin\\anaconda3\\lib\\site-packages (from nbclassic>=0.4.7->notebook) (0.2.2)\n",
      "Requirement already satisfied: jupyter-server>=1.8 in c:\\users\\admin\\anaconda3\\lib\\site-packages (from nbclassic>=0.4.7->notebook) (1.23.4)\n",
      "Requirement already satisfied: jupyterlab-pygments in c:\\users\\admin\\anaconda3\\lib\\site-packages (from nbconvert>=5->notebook) (0.1.2)\n",
      "Requirement already satisfied: lxml in c:\\users\\admin\\anaconda3\\lib\\site-packages (from nbconvert>=5->notebook) (4.9.1)\n",
      "Requirement already satisfied: pygments>=2.4.1 in c:\\users\\admin\\anaconda3\\lib\\site-packages (from nbconvert>=5->notebook) (2.11.2)\n",
      "Requirement already satisfied: pandocfilters>=1.4.1 in c:\\users\\admin\\anaconda3\\lib\\site-packages (from nbconvert>=5->notebook) (1.5.0)\n",
      "Requirement already satisfied: tinycss2 in c:\\users\\admin\\anaconda3\\lib\\site-packages (from nbconvert>=5->notebook) (1.2.1)\n",
      "Requirement already satisfied: beautifulsoup4 in c:\\users\\admin\\anaconda3\\lib\\site-packages (from nbconvert>=5->notebook) (4.11.1)\n",
      "Requirement already satisfied: defusedxml in c:\\users\\admin\\anaconda3\\lib\\site-packages (from nbconvert>=5->notebook) (0.7.1)\n",
      "Requirement already satisfied: nbclient>=0.5.0 in c:\\users\\admin\\anaconda3\\lib\\site-packages (from nbconvert>=5->notebook) (0.5.13)\n",
      "Requirement already satisfied: mistune<2,>=0.8.1 in c:\\users\\admin\\anaconda3\\lib\\site-packages (from nbconvert>=5->notebook) (0.8.4)\n",
      "Requirement already satisfied: bleach in c:\\users\\admin\\anaconda3\\lib\\site-packages (from nbconvert>=5->notebook) (4.1.0)\n",
      "Requirement already satisfied: fastjsonschema in c:\\users\\admin\\anaconda3\\lib\\site-packages (from nbformat->notebook) (2.16.2)\n",
      "Requirement already satisfied: jsonschema>=2.6 in c:\\users\\admin\\anaconda3\\lib\\site-packages (from nbformat->notebook) (4.17.3)\n",
      "Requirement already satisfied: pytz>=2020.1 in c:\\users\\admin\\anaconda3\\lib\\site-packages (from pandas>=1.0->dask[complete]) (2022.7)\n",
      "Requirement already satisfied: pywinpty>=1.1.0 in c:\\users\\admin\\anaconda3\\lib\\site-packages (from terminado>=0.8.3->notebook) (2.0.10)\n",
      "Requirement already satisfied: argon2-cffi-bindings in c:\\users\\admin\\anaconda3\\lib\\site-packages (from argon2-cffi->notebook) (21.2.0)\n",
      "Requirement already satisfied: debugpy>=1.0 in c:\\users\\admin\\anaconda3\\lib\\site-packages (from ipykernel->notebook) (1.5.1)\n",
      "Requirement already satisfied: ipython>=7.23.1 in c:\\users\\admin\\anaconda3\\lib\\site-packages (from ipykernel->notebook) (8.10.0)\n",
      "Requirement already satisfied: comm>=0.1.1 in c:\\users\\admin\\anaconda3\\lib\\site-packages (from ipykernel->notebook) (0.1.2)\n",
      "Requirement already satisfied: matplotlib-inline>=0.1 in c:\\users\\admin\\anaconda3\\lib\\site-packages (from ipykernel->notebook) (0.1.6)\n",
      "Requirement already satisfied: colorama in c:\\users\\admin\\anaconda3\\lib\\site-packages (from click>=6.6->distributed==2022.7.0->dask[complete]) (0.4.6)\n",
      "Requirement already satisfied: pickleshare in c:\\users\\admin\\anaconda3\\lib\\site-packages (from ipython>=7.23.1->ipykernel->notebook) (0.7.5)\n",
      "Requirement already satisfied: jedi>=0.16 in c:\\users\\admin\\anaconda3\\lib\\site-packages (from ipython>=7.23.1->ipykernel->notebook) (0.18.1)\n",
      "Requirement already satisfied: stack-data in c:\\users\\admin\\anaconda3\\lib\\site-packages (from ipython>=7.23.1->ipykernel->notebook) (0.2.0)\n",
      "Requirement already satisfied: backcall in c:\\users\\admin\\anaconda3\\lib\\site-packages (from ipython>=7.23.1->ipykernel->notebook) (0.2.0)\n",
      "Requirement already satisfied: decorator in c:\\users\\admin\\anaconda3\\lib\\site-packages (from ipython>=7.23.1->ipykernel->notebook) (5.1.1)\n",
      "Requirement already satisfied: prompt-toolkit<3.1.0,>=3.0.30 in c:\\users\\admin\\anaconda3\\lib\\site-packages (from ipython>=7.23.1->ipykernel->notebook) (3.0.36)\n",
      "Requirement already satisfied: pyrsistent!=0.17.0,!=0.17.1,!=0.17.2,>=0.14.0 in c:\\users\\admin\\anaconda3\\lib\\site-packages (from jsonschema>=2.6->nbformat->notebook) (0.18.0)\n",
      "Requirement already satisfied: attrs>=17.4.0 in c:\\users\\admin\\anaconda3\\lib\\site-packages (from jsonschema>=2.6->nbformat->notebook) (22.1.0)\n",
      "Requirement already satisfied: anyio<4,>=3.1.0 in c:\\users\\admin\\anaconda3\\lib\\site-packages (from jupyter-server>=1.8->nbclassic>=0.4.7->notebook) (3.5.0)\n",
      "Requirement already satisfied: websocket-client in c:\\users\\admin\\anaconda3\\lib\\site-packages (from jupyter-server>=1.8->nbclassic>=0.4.7->notebook) (0.58.0)\n",
      "Requirement already satisfied: six>=1.5 in c:\\users\\admin\\anaconda3\\lib\\site-packages (from python-dateutil>=2.8.2->jupyter-client>=5.3.4->notebook) (1.16.0)\n",
      "Requirement already satisfied: heapdict in c:\\users\\admin\\anaconda3\\lib\\site-packages (from zict>=0.1.3->distributed==2022.7.0->dask[complete]) (1.0.1)\n",
      "Requirement already satisfied: cffi>=1.0.1 in c:\\users\\admin\\anaconda3\\lib\\site-packages (from argon2-cffi-bindings->argon2-cffi->notebook) (1.15.1)\n",
      "Requirement already satisfied: soupsieve>1.2 in c:\\users\\admin\\anaconda3\\lib\\site-packages (from beautifulsoup4->nbconvert>=5->notebook) (2.3.2.post1)\n",
      "Requirement already satisfied: webencodings in c:\\users\\admin\\anaconda3\\lib\\site-packages (from bleach->nbconvert>=5->notebook) (0.5.1)\n",
      "Requirement already satisfied: sniffio>=1.1 in c:\\users\\admin\\anaconda3\\lib\\site-packages (from anyio<4,>=3.1.0->jupyter-server>=1.8->nbclassic>=0.4.7->notebook) (1.2.0)\n",
      "Requirement already satisfied: idna>=2.8 in c:\\users\\admin\\anaconda3\\lib\\site-packages (from anyio<4,>=3.1.0->jupyter-server>=1.8->nbclassic>=0.4.7->notebook) (3.4)\n",
      "Requirement already satisfied: pycparser in c:\\users\\admin\\anaconda3\\lib\\site-packages (from cffi>=1.0.1->argon2-cffi-bindings->argon2-cffi->notebook) (2.21)\n",
      "Requirement already satisfied: parso<0.9.0,>=0.8.0 in c:\\users\\admin\\anaconda3\\lib\\site-packages (from jedi>=0.16->ipython>=7.23.1->ipykernel->notebook) (0.8.3)\n",
      "Requirement already satisfied: wcwidth in c:\\users\\admin\\anaconda3\\lib\\site-packages (from prompt-toolkit<3.1.0,>=3.0.30->ipython>=7.23.1->ipykernel->notebook) (0.2.5)\n",
      "Requirement already satisfied: pure-eval in c:\\users\\admin\\anaconda3\\lib\\site-packages (from stack-data->ipython>=7.23.1->ipykernel->notebook) (0.2.2)\n",
      "Requirement already satisfied: asttokens in c:\\users\\admin\\anaconda3\\lib\\site-packages (from stack-data->ipython>=7.23.1->ipykernel->notebook) (2.0.5)\n",
      "Requirement already satisfied: executing in c:\\users\\admin\\anaconda3\\lib\\site-packages (from stack-data->ipython>=7.23.1->ipykernel->notebook) (0.8.3)\n",
      "Note: you may need to restart the kernel to use updated packages.\n"
     ]
    }
   ],
   "source": [
    "pip install dask[complete] notebook"
   ]
  },
  {
   "cell_type": "markdown",
   "id": "a7819a97",
   "metadata": {},
   "source": [
    "# Installing all required packages"
   ]
  },
  {
   "cell_type": "code",
   "execution_count": 7,
   "id": "22591efc",
   "metadata": {},
   "outputs": [
    {
     "name": "stdout",
     "output_type": "stream",
     "text": [
      "Requirement already satisfied: dask[complete] in c:\\users\\admin\\anaconda3\\lib\\site-packages (2022.7.0)\n",
      "Requirement already satisfied: aiohttp in c:\\users\\admin\\anaconda3\\lib\\site-packages (3.12.9)\n",
      "Requirement already satisfied: requests in c:\\users\\admin\\anaconda3\\lib\\site-packages (2.28.1)\n",
      "Requirement already satisfied: pyyaml>=5.3.1 in c:\\users\\admin\\anaconda3\\lib\\site-packages (from dask[complete]) (6.0)\n",
      "Requirement already satisfied: partd>=0.3.10 in c:\\users\\admin\\anaconda3\\lib\\site-packages (from dask[complete]) (1.2.0)\n",
      "Requirement already satisfied: toolz>=0.8.2 in c:\\users\\admin\\anaconda3\\lib\\site-packages (from dask[complete]) (0.12.0)\n",
      "Requirement already satisfied: packaging>=20.0 in c:\\users\\admin\\anaconda3\\lib\\site-packages (from dask[complete]) (22.0)\n",
      "Requirement already satisfied: fsspec>=0.6.0 in c:\\users\\admin\\anaconda3\\lib\\site-packages (from dask[complete]) (2022.11.0)\n",
      "Requirement already satisfied: cloudpickle>=1.1.1 in c:\\users\\admin\\anaconda3\\lib\\site-packages (from dask[complete]) (2.0.0)\n",
      "Requirement already satisfied: distributed==2022.7.0 in c:\\users\\admin\\anaconda3\\lib\\site-packages (from dask[complete]) (2022.7.0)\n",
      "Requirement already satisfied: bokeh>=2.4.2 in c:\\users\\admin\\anaconda3\\lib\\site-packages (from dask[complete]) (2.4.3)\n",
      "Requirement already satisfied: numpy>=1.18 in c:\\users\\admin\\anaconda3\\lib\\site-packages (from dask[complete]) (1.23.5)\n",
      "Requirement already satisfied: pandas>=1.0 in c:\\users\\admin\\anaconda3\\lib\\site-packages (from dask[complete]) (1.5.3)\n",
      "Requirement already satisfied: jinja2 in c:\\users\\admin\\anaconda3\\lib\\site-packages (from dask[complete]) (3.1.2)\n",
      "Requirement already satisfied: urllib3 in c:\\users\\admin\\anaconda3\\lib\\site-packages (from distributed==2022.7.0->dask[complete]) (1.26.14)\n",
      "Requirement already satisfied: psutil>=5.0 in c:\\users\\admin\\anaconda3\\lib\\site-packages (from distributed==2022.7.0->dask[complete]) (5.9.0)\n",
      "Requirement already satisfied: click>=6.6 in c:\\users\\admin\\anaconda3\\lib\\site-packages (from distributed==2022.7.0->dask[complete]) (8.0.4)\n",
      "Requirement already satisfied: zict>=0.1.3 in c:\\users\\admin\\anaconda3\\lib\\site-packages (from distributed==2022.7.0->dask[complete]) (2.1.0)\n",
      "Requirement already satisfied: sortedcontainers!=2.0.0,!=2.0.1 in c:\\users\\admin\\anaconda3\\lib\\site-packages (from distributed==2022.7.0->dask[complete]) (2.4.0)\n",
      "Requirement already satisfied: tornado<6.2,>=6.0.3 in c:\\users\\admin\\anaconda3\\lib\\site-packages (from distributed==2022.7.0->dask[complete]) (6.1)\n",
      "Requirement already satisfied: msgpack>=0.6.0 in c:\\users\\admin\\anaconda3\\lib\\site-packages (from distributed==2022.7.0->dask[complete]) (1.0.3)\n",
      "Requirement already satisfied: locket>=1.0.0 in c:\\users\\admin\\anaconda3\\lib\\site-packages (from distributed==2022.7.0->dask[complete]) (1.0.0)\n",
      "Requirement already satisfied: tblib>=1.6.0 in c:\\users\\admin\\anaconda3\\lib\\site-packages (from distributed==2022.7.0->dask[complete]) (1.7.0)\n",
      "Requirement already satisfied: aiosignal>=1.1.2 in c:\\users\\admin\\anaconda3\\lib\\site-packages (from aiohttp) (1.3.2)\n",
      "Requirement already satisfied: propcache>=0.2.0 in c:\\users\\admin\\anaconda3\\lib\\site-packages (from aiohttp) (0.3.1)\n",
      "Requirement already satisfied: yarl<2.0,>=1.17.0 in c:\\users\\admin\\anaconda3\\lib\\site-packages (from aiohttp) (1.20.0)\n",
      "Requirement already satisfied: aiohappyeyeballs>=2.5.0 in c:\\users\\admin\\anaconda3\\lib\\site-packages (from aiohttp) (2.6.1)\n",
      "Requirement already satisfied: multidict<7.0,>=4.5 in c:\\users\\admin\\anaconda3\\lib\\site-packages (from aiohttp) (6.4.4)\n",
      "Requirement already satisfied: attrs>=17.3.0 in c:\\users\\admin\\anaconda3\\lib\\site-packages (from aiohttp) (22.1.0)\n",
      "Requirement already satisfied: async-timeout<6.0,>=4.0 in c:\\users\\admin\\anaconda3\\lib\\site-packages (from aiohttp) (5.0.1)\n",
      "Requirement already satisfied: frozenlist>=1.1.1 in c:\\users\\admin\\anaconda3\\lib\\site-packages (from aiohttp) (1.6.2)\n",
      "Requirement already satisfied: charset-normalizer<3,>=2 in c:\\users\\admin\\anaconda3\\lib\\site-packages (from requests) (2.0.4)\n",
      "Requirement already satisfied: idna<4,>=2.5 in c:\\users\\admin\\anaconda3\\lib\\site-packages (from requests) (3.4)\n",
      "Requirement already satisfied: certifi>=2017.4.17 in c:\\users\\admin\\anaconda3\\lib\\site-packages (from requests) (2022.12.7)\n",
      "Requirement already satisfied: typing-extensions>=3.10.0 in c:\\users\\admin\\anaconda3\\lib\\site-packages (from bokeh>=2.4.2->dask[complete]) (4.14.0)\n",
      "Requirement already satisfied: pillow>=7.1.0 in c:\\users\\admin\\anaconda3\\lib\\site-packages (from bokeh>=2.4.2->dask[complete]) (9.4.0)\n",
      "Requirement already satisfied: MarkupSafe>=2.0 in c:\\users\\admin\\anaconda3\\lib\\site-packages (from jinja2->dask[complete]) (2.1.1)\n",
      "Requirement already satisfied: pytz>=2020.1 in c:\\users\\admin\\anaconda3\\lib\\site-packages (from pandas>=1.0->dask[complete]) (2022.7)\n",
      "Requirement already satisfied: python-dateutil>=2.8.1 in c:\\users\\admin\\anaconda3\\lib\\site-packages (from pandas>=1.0->dask[complete]) (2.8.2)\n",
      "Requirement already satisfied: colorama in c:\\users\\admin\\anaconda3\\lib\\site-packages (from click>=6.6->distributed==2022.7.0->dask[complete]) (0.4.6)\n",
      "Requirement already satisfied: six>=1.5 in c:\\users\\admin\\anaconda3\\lib\\site-packages (from python-dateutil>=2.8.1->pandas>=1.0->dask[complete]) (1.16.0)\n",
      "Requirement already satisfied: heapdict in c:\\users\\admin\\anaconda3\\lib\\site-packages (from zict>=0.1.3->distributed==2022.7.0->dask[complete]) (1.0.1)\n",
      "Note: you may need to restart the kernel to use updated packages.\n"
     ]
    }
   ],
   "source": [
    "pip install dask[complete] aiohttp requests\n"
   ]
  },
  {
   "cell_type": "markdown",
   "id": "6a4d7317",
   "metadata": {},
   "source": [
    "# Loading Dataset with DASK"
   ]
  },
  {
   "cell_type": "code",
   "execution_count": 10,
   "id": "cba8306e",
   "metadata": {},
   "outputs": [
    {
     "name": "stdout",
     "output_type": "stream",
     "text": [
      "[########################################] | 100% Completed | 577.23 ms\n",
      "[########################################] | 100% Completed | 680.61 ms\n",
      "[########################################] | 100% Completed | 784.76 ms\n",
      "[########################################] | 100% Completed | 791.96 ms\n"
     ]
    },
    {
     "data": {
      "text/html": [
       "<div>\n",
       "<style scoped>\n",
       "    .dataframe tbody tr th:only-of-type {\n",
       "        vertical-align: middle;\n",
       "    }\n",
       "\n",
       "    .dataframe tbody tr th {\n",
       "        vertical-align: top;\n",
       "    }\n",
       "\n",
       "    .dataframe thead th {\n",
       "        text-align: right;\n",
       "    }\n",
       "</style>\n",
       "<table border=\"1\" class=\"dataframe\">\n",
       "  <thead>\n",
       "    <tr style=\"text-align: right;\">\n",
       "      <th></th>\n",
       "      <th>Region</th>\n",
       "      <th>Country</th>\n",
       "      <th>Item Type</th>\n",
       "      <th>Sales Channel</th>\n",
       "      <th>Order Priority</th>\n",
       "      <th>Order Date</th>\n",
       "      <th>Order ID</th>\n",
       "      <th>Ship Date</th>\n",
       "      <th>Units Sold</th>\n",
       "      <th>Unit Price</th>\n",
       "      <th>Unit Cost</th>\n",
       "      <th>Total Revenue</th>\n",
       "      <th>Total Cost</th>\n",
       "      <th>Total Profit</th>\n",
       "    </tr>\n",
       "  </thead>\n",
       "  <tbody>\n",
       "    <tr>\n",
       "      <th>0</th>\n",
       "      <td>Middle East and North Africa</td>\n",
       "      <td>Azerbaijan</td>\n",
       "      <td>Snacks</td>\n",
       "      <td>Online</td>\n",
       "      <td>C</td>\n",
       "      <td>10/8/2014</td>\n",
       "      <td>535113847</td>\n",
       "      <td>10/23/2014</td>\n",
       "      <td>934</td>\n",
       "      <td>152.58</td>\n",
       "      <td>97.44</td>\n",
       "      <td>142509.72</td>\n",
       "      <td>91008.96</td>\n",
       "      <td>51500.76</td>\n",
       "    </tr>\n",
       "    <tr>\n",
       "      <th>1</th>\n",
       "      <td>Central America and the Caribbean</td>\n",
       "      <td>Panama</td>\n",
       "      <td>Cosmetics</td>\n",
       "      <td>Offline</td>\n",
       "      <td>L</td>\n",
       "      <td>2/22/2015</td>\n",
       "      <td>874708545</td>\n",
       "      <td>2/27/2015</td>\n",
       "      <td>4551</td>\n",
       "      <td>437.20</td>\n",
       "      <td>263.33</td>\n",
       "      <td>1989697.20</td>\n",
       "      <td>1198414.83</td>\n",
       "      <td>791282.37</td>\n",
       "    </tr>\n",
       "    <tr>\n",
       "      <th>2</th>\n",
       "      <td>Sub-Saharan Africa</td>\n",
       "      <td>Sao Tome and Principe</td>\n",
       "      <td>Fruits</td>\n",
       "      <td>Offline</td>\n",
       "      <td>M</td>\n",
       "      <td>12/9/2015</td>\n",
       "      <td>854349935</td>\n",
       "      <td>1/18/2016</td>\n",
       "      <td>9986</td>\n",
       "      <td>9.33</td>\n",
       "      <td>6.92</td>\n",
       "      <td>93169.38</td>\n",
       "      <td>69103.12</td>\n",
       "      <td>24066.26</td>\n",
       "    </tr>\n",
       "    <tr>\n",
       "      <th>3</th>\n",
       "      <td>Sub-Saharan Africa</td>\n",
       "      <td>Sao Tome and Principe</td>\n",
       "      <td>Personal Care</td>\n",
       "      <td>Online</td>\n",
       "      <td>M</td>\n",
       "      <td>9/17/2014</td>\n",
       "      <td>892836844</td>\n",
       "      <td>10/12/2014</td>\n",
       "      <td>9118</td>\n",
       "      <td>81.73</td>\n",
       "      <td>56.67</td>\n",
       "      <td>745214.14</td>\n",
       "      <td>516717.06</td>\n",
       "      <td>228497.08</td>\n",
       "    </tr>\n",
       "    <tr>\n",
       "      <th>4</th>\n",
       "      <td>Central America and the Caribbean</td>\n",
       "      <td>Belize</td>\n",
       "      <td>Household</td>\n",
       "      <td>Offline</td>\n",
       "      <td>H</td>\n",
       "      <td>2/4/2010</td>\n",
       "      <td>129280602</td>\n",
       "      <td>3/5/2010</td>\n",
       "      <td>5858</td>\n",
       "      <td>668.27</td>\n",
       "      <td>502.54</td>\n",
       "      <td>3914725.66</td>\n",
       "      <td>2943879.32</td>\n",
       "      <td>970846.34</td>\n",
       "    </tr>\n",
       "  </tbody>\n",
       "</table>\n",
       "</div>"
      ],
      "text/plain": [
       "                              Region                Country      Item Type  \\\n",
       "0       Middle East and North Africa             Azerbaijan         Snacks   \n",
       "1  Central America and the Caribbean                 Panama      Cosmetics   \n",
       "2                 Sub-Saharan Africa  Sao Tome and Principe         Fruits   \n",
       "3                 Sub-Saharan Africa  Sao Tome and Principe  Personal Care   \n",
       "4  Central America and the Caribbean                 Belize      Household   \n",
       "\n",
       "  Sales Channel Order Priority Order Date   Order ID   Ship Date  Units Sold  \\\n",
       "0        Online              C  10/8/2014  535113847  10/23/2014         934   \n",
       "1       Offline              L  2/22/2015  874708545   2/27/2015        4551   \n",
       "2       Offline              M  12/9/2015  854349935   1/18/2016        9986   \n",
       "3        Online              M  9/17/2014  892836844  10/12/2014        9118   \n",
       "4       Offline              H   2/4/2010  129280602    3/5/2010        5858   \n",
       "\n",
       "   Unit Price  Unit Cost  Total Revenue  Total Cost  Total Profit  \n",
       "0      152.58      97.44      142509.72    91008.96      51500.76  \n",
       "1      437.20     263.33     1989697.20  1198414.83     791282.37  \n",
       "2        9.33       6.92       93169.38    69103.12      24066.26  \n",
       "3       81.73      56.67      745214.14   516717.06     228497.08  \n",
       "4      668.27     502.54     3914725.66  2943879.32     970846.34  "
      ]
     },
     "execution_count": 10,
     "metadata": {},
     "output_type": "execute_result"
    }
   ],
   "source": [
    "import dask.dataframe as dd\n",
    "from dask.diagnostics import ProgressBar\n",
    "\n",
    "# Enable progress bar for operations\n",
    "ProgressBar().register()\n",
    "\n",
    "# Replace 'your_dataset.csv' with the path to your downloaded CSV file\n",
    "df = dd.read_csv('100000 Sales Records.csv')\n",
    "\n",
    "# Preview the first few rows\n",
    "df.head()\n"
   ]
  },
  {
   "cell_type": "markdown",
   "id": "5e043d11",
   "metadata": {},
   "source": [
    "# Basic EDA"
   ]
  },
  {
   "cell_type": "code",
   "execution_count": 11,
   "id": "9ab3b7e7",
   "metadata": {},
   "outputs": [
    {
     "name": "stdout",
     "output_type": "stream",
     "text": [
      "[########################################] | 100% Completed | 342.89 ms\n",
      "[########################################] | 100% Completed | 444.86 ms\n",
      "[########################################] | 100% Completed | 454.47 ms\n",
      "[########################################] | 100% Completed | 554.32 ms\n",
      "Number of rows: 100000\n",
      "Number of columns: 14\n",
      "Region             object\n",
      "Country            object\n",
      "Item Type          object\n",
      "Sales Channel      object\n",
      "Order Priority     object\n",
      "Order Date         object\n",
      "Order ID            int64\n",
      "Ship Date          object\n",
      "Units Sold          int64\n",
      "Unit Price        float64\n",
      "Unit Cost         float64\n",
      "Total Revenue     float64\n",
      "Total Cost        float64\n",
      "Total Profit      float64\n",
      "dtype: object\n",
      "[########################################] | 100% Completed | 821.11 ms\n",
      "[########################################] | 100% Completed | 926.60 ms\n",
      "[########################################] | 100% Completed | 1.03 s\n",
      "[########################################] | 100% Completed | 1.14 s\n"
     ]
    },
    {
     "data": {
      "text/html": [
       "<div>\n",
       "<style scoped>\n",
       "    .dataframe tbody tr th:only-of-type {\n",
       "        vertical-align: middle;\n",
       "    }\n",
       "\n",
       "    .dataframe tbody tr th {\n",
       "        vertical-align: top;\n",
       "    }\n",
       "\n",
       "    .dataframe thead th {\n",
       "        text-align: right;\n",
       "    }\n",
       "</style>\n",
       "<table border=\"1\" class=\"dataframe\">\n",
       "  <thead>\n",
       "    <tr style=\"text-align: right;\">\n",
       "      <th></th>\n",
       "      <th>Order ID</th>\n",
       "      <th>Units Sold</th>\n",
       "      <th>Unit Price</th>\n",
       "      <th>Unit Cost</th>\n",
       "      <th>Total Revenue</th>\n",
       "      <th>Total Cost</th>\n",
       "      <th>Total Profit</th>\n",
       "    </tr>\n",
       "  </thead>\n",
       "  <tbody>\n",
       "    <tr>\n",
       "      <th>count</th>\n",
       "      <td>1.000000e+05</td>\n",
       "      <td>100000.000000</td>\n",
       "      <td>100000.000000</td>\n",
       "      <td>100000.000000</td>\n",
       "      <td>1.000000e+05</td>\n",
       "      <td>1.000000e+05</td>\n",
       "      <td>1.000000e+05</td>\n",
       "    </tr>\n",
       "    <tr>\n",
       "      <th>mean</th>\n",
       "      <td>5.503956e+08</td>\n",
       "      <td>5001.446170</td>\n",
       "      <td>266.703989</td>\n",
       "      <td>188.019711</td>\n",
       "      <td>1.336067e+06</td>\n",
       "      <td>9.419755e+05</td>\n",
       "      <td>3.940912e+05</td>\n",
       "    </tr>\n",
       "    <tr>\n",
       "      <th>std</th>\n",
       "      <td>2.593219e+08</td>\n",
       "      <td>2884.575424</td>\n",
       "      <td>216.940081</td>\n",
       "      <td>175.706023</td>\n",
       "      <td>1.471768e+06</td>\n",
       "      <td>1.151828e+06</td>\n",
       "      <td>3.795986e+05</td>\n",
       "    </tr>\n",
       "    <tr>\n",
       "      <th>min</th>\n",
       "      <td>1.000089e+08</td>\n",
       "      <td>1.000000</td>\n",
       "      <td>9.330000</td>\n",
       "      <td>6.920000</td>\n",
       "      <td>1.866000e+01</td>\n",
       "      <td>1.384000e+01</td>\n",
       "      <td>4.820000e+00</td>\n",
       "    </tr>\n",
       "    <tr>\n",
       "      <th>25%</th>\n",
       "      <td>3.260464e+08</td>\n",
       "      <td>2505.000000</td>\n",
       "      <td>109.280000</td>\n",
       "      <td>56.670000</td>\n",
       "      <td>2.797533e+05</td>\n",
       "      <td>1.629283e+05</td>\n",
       "      <td>9.590000e+04</td>\n",
       "    </tr>\n",
       "    <tr>\n",
       "      <th>50%</th>\n",
       "      <td>5.477185e+08</td>\n",
       "      <td>5007.000000</td>\n",
       "      <td>205.700000</td>\n",
       "      <td>117.110000</td>\n",
       "      <td>7.898916e+05</td>\n",
       "      <td>4.679374e+05</td>\n",
       "      <td>2.836575e+05</td>\n",
       "    </tr>\n",
       "    <tr>\n",
       "      <th>75%</th>\n",
       "      <td>7.750785e+08</td>\n",
       "      <td>7495.250000</td>\n",
       "      <td>437.200000</td>\n",
       "      <td>364.690000</td>\n",
       "      <td>1.836490e+06</td>\n",
       "      <td>1.209475e+06</td>\n",
       "      <td>5.683841e+05</td>\n",
       "    </tr>\n",
       "    <tr>\n",
       "      <th>max</th>\n",
       "      <td>9.999965e+08</td>\n",
       "      <td>10000.000000</td>\n",
       "      <td>668.270000</td>\n",
       "      <td>524.960000</td>\n",
       "      <td>6.682700e+06</td>\n",
       "      <td>5.249075e+06</td>\n",
       "      <td>1.738700e+06</td>\n",
       "    </tr>\n",
       "  </tbody>\n",
       "</table>\n",
       "</div>"
      ],
      "text/plain": [
       "           Order ID     Units Sold     Unit Price      Unit Cost  \\\n",
       "count  1.000000e+05  100000.000000  100000.000000  100000.000000   \n",
       "mean   5.503956e+08    5001.446170     266.703989     188.019711   \n",
       "std    2.593219e+08    2884.575424     216.940081     175.706023   \n",
       "min    1.000089e+08       1.000000       9.330000       6.920000   \n",
       "25%    3.260464e+08    2505.000000     109.280000      56.670000   \n",
       "50%    5.477185e+08    5007.000000     205.700000     117.110000   \n",
       "75%    7.750785e+08    7495.250000     437.200000     364.690000   \n",
       "max    9.999965e+08   10000.000000     668.270000     524.960000   \n",
       "\n",
       "       Total Revenue    Total Cost  Total Profit  \n",
       "count   1.000000e+05  1.000000e+05  1.000000e+05  \n",
       "mean    1.336067e+06  9.419755e+05  3.940912e+05  \n",
       "std     1.471768e+06  1.151828e+06  3.795986e+05  \n",
       "min     1.866000e+01  1.384000e+01  4.820000e+00  \n",
       "25%     2.797533e+05  1.629283e+05  9.590000e+04  \n",
       "50%     7.898916e+05  4.679374e+05  2.836575e+05  \n",
       "75%     1.836490e+06  1.209475e+06  5.683841e+05  \n",
       "max     6.682700e+06  5.249075e+06  1.738700e+06  "
      ]
     },
     "execution_count": 11,
     "metadata": {},
     "output_type": "execute_result"
    }
   ],
   "source": [
    "# Get the number of rows and columns\n",
    "print(\"Number of rows:\", len(df))\n",
    "print(\"Number of columns:\", len(df.columns))\n",
    "\n",
    "# Display data types\n",
    "print(df.dtypes)\n",
    "\n",
    "# Compute basic statistics\n",
    "df.describe().compute()\n"
   ]
  },
  {
   "cell_type": "code",
   "execution_count": 12,
   "id": "b59bde7f",
   "metadata": {},
   "outputs": [
    {
     "name": "stdout",
     "output_type": "stream",
     "text": [
      "[########################################] | 100% Completed | 559.20 ms\n",
      "[########################################] | 100% Completed | 661.83 ms\n",
      "[########################################] | 100% Completed | 683.00 ms\n",
      "[########################################] | 100% Completed | 786.18 ms\n"
     ]
    },
    {
     "data": {
      "text/html": [
       "<div>\n",
       "<style scoped>\n",
       "    .dataframe tbody tr th:only-of-type {\n",
       "        vertical-align: middle;\n",
       "    }\n",
       "\n",
       "    .dataframe tbody tr th {\n",
       "        vertical-align: top;\n",
       "    }\n",
       "\n",
       "    .dataframe thead th {\n",
       "        text-align: right;\n",
       "    }\n",
       "</style>\n",
       "<table border=\"1\" class=\"dataframe\">\n",
       "  <thead>\n",
       "    <tr style=\"text-align: right;\">\n",
       "      <th></th>\n",
       "      <th>Region</th>\n",
       "      <th>Country</th>\n",
       "      <th>Item Type</th>\n",
       "      <th>Sales Channel</th>\n",
       "      <th>Order Priority</th>\n",
       "      <th>Order Date</th>\n",
       "      <th>Order ID</th>\n",
       "      <th>Ship Date</th>\n",
       "      <th>Units Sold</th>\n",
       "      <th>Unit Price</th>\n",
       "      <th>Unit Cost</th>\n",
       "      <th>Total Revenue</th>\n",
       "      <th>Total Cost</th>\n",
       "      <th>Total Profit</th>\n",
       "    </tr>\n",
       "  </thead>\n",
       "  <tbody>\n",
       "    <tr>\n",
       "      <th>0</th>\n",
       "      <td>Middle East and North Africa</td>\n",
       "      <td>Azerbaijan</td>\n",
       "      <td>Snacks</td>\n",
       "      <td>Online</td>\n",
       "      <td>C</td>\n",
       "      <td>10/8/2014</td>\n",
       "      <td>535113847</td>\n",
       "      <td>10/23/2014</td>\n",
       "      <td>934</td>\n",
       "      <td>152.58</td>\n",
       "      <td>97.44</td>\n",
       "      <td>142509.72</td>\n",
       "      <td>91008.96</td>\n",
       "      <td>51500.76</td>\n",
       "    </tr>\n",
       "    <tr>\n",
       "      <th>1</th>\n",
       "      <td>Central America and the Caribbean</td>\n",
       "      <td>Panama</td>\n",
       "      <td>Cosmetics</td>\n",
       "      <td>Offline</td>\n",
       "      <td>L</td>\n",
       "      <td>2/22/2015</td>\n",
       "      <td>874708545</td>\n",
       "      <td>2/27/2015</td>\n",
       "      <td>4551</td>\n",
       "      <td>437.20</td>\n",
       "      <td>263.33</td>\n",
       "      <td>1989697.20</td>\n",
       "      <td>1198414.83</td>\n",
       "      <td>791282.37</td>\n",
       "    </tr>\n",
       "    <tr>\n",
       "      <th>2</th>\n",
       "      <td>Sub-Saharan Africa</td>\n",
       "      <td>Sao Tome and Principe</td>\n",
       "      <td>Fruits</td>\n",
       "      <td>Offline</td>\n",
       "      <td>M</td>\n",
       "      <td>12/9/2015</td>\n",
       "      <td>854349935</td>\n",
       "      <td>1/18/2016</td>\n",
       "      <td>9986</td>\n",
       "      <td>9.33</td>\n",
       "      <td>6.92</td>\n",
       "      <td>93169.38</td>\n",
       "      <td>69103.12</td>\n",
       "      <td>24066.26</td>\n",
       "    </tr>\n",
       "    <tr>\n",
       "      <th>3</th>\n",
       "      <td>Sub-Saharan Africa</td>\n",
       "      <td>Sao Tome and Principe</td>\n",
       "      <td>Personal Care</td>\n",
       "      <td>Online</td>\n",
       "      <td>M</td>\n",
       "      <td>9/17/2014</td>\n",
       "      <td>892836844</td>\n",
       "      <td>10/12/2014</td>\n",
       "      <td>9118</td>\n",
       "      <td>81.73</td>\n",
       "      <td>56.67</td>\n",
       "      <td>745214.14</td>\n",
       "      <td>516717.06</td>\n",
       "      <td>228497.08</td>\n",
       "    </tr>\n",
       "    <tr>\n",
       "      <th>4</th>\n",
       "      <td>Central America and the Caribbean</td>\n",
       "      <td>Belize</td>\n",
       "      <td>Household</td>\n",
       "      <td>Offline</td>\n",
       "      <td>H</td>\n",
       "      <td>2/4/2010</td>\n",
       "      <td>129280602</td>\n",
       "      <td>3/5/2010</td>\n",
       "      <td>5858</td>\n",
       "      <td>668.27</td>\n",
       "      <td>502.54</td>\n",
       "      <td>3914725.66</td>\n",
       "      <td>2943879.32</td>\n",
       "      <td>970846.34</td>\n",
       "    </tr>\n",
       "  </tbody>\n",
       "</table>\n",
       "</div>"
      ],
      "text/plain": [
       "                              Region                Country      Item Type  \\\n",
       "0       Middle East and North Africa             Azerbaijan         Snacks   \n",
       "1  Central America and the Caribbean                 Panama      Cosmetics   \n",
       "2                 Sub-Saharan Africa  Sao Tome and Principe         Fruits   \n",
       "3                 Sub-Saharan Africa  Sao Tome and Principe  Personal Care   \n",
       "4  Central America and the Caribbean                 Belize      Household   \n",
       "\n",
       "  Sales Channel Order Priority Order Date   Order ID   Ship Date  Units Sold  \\\n",
       "0        Online              C  10/8/2014  535113847  10/23/2014         934   \n",
       "1       Offline              L  2/22/2015  874708545   2/27/2015        4551   \n",
       "2       Offline              M  12/9/2015  854349935   1/18/2016        9986   \n",
       "3        Online              M  9/17/2014  892836844  10/12/2014        9118   \n",
       "4       Offline              H   2/4/2010  129280602    3/5/2010        5858   \n",
       "\n",
       "   Unit Price  Unit Cost  Total Revenue  Total Cost  Total Profit  \n",
       "0      152.58      97.44      142509.72    91008.96      51500.76  \n",
       "1      437.20     263.33     1989697.20  1198414.83     791282.37  \n",
       "2        9.33       6.92       93169.38    69103.12      24066.26  \n",
       "3       81.73      56.67      745214.14   516717.06     228497.08  \n",
       "4      668.27     502.54     3914725.66  2943879.32     970846.34  "
      ]
     },
     "execution_count": 12,
     "metadata": {},
     "output_type": "execute_result"
    }
   ],
   "source": [
    "# See first 5 rows\n",
    "df.head()\n"
   ]
  },
  {
   "cell_type": "code",
   "execution_count": 13,
   "id": "64da8906",
   "metadata": {},
   "outputs": [
    {
     "name": "stdout",
     "output_type": "stream",
     "text": [
      "[########################################] | 100% Completed | 660.33 ms\n",
      "[########################################] | 100% Completed | 670.55 ms\n",
      "[########################################] | 100% Completed | 711.84 ms\n",
      "[########################################] | 100% Completed | 813.48 ms\n",
      "Rows (approx): 100000\n",
      "Columns: 14\n"
     ]
    }
   ],
   "source": [
    "# Show column names and datatypes\n",
    "df.dtypes\n",
    "\n",
    "# Get shape (rows and columns)\n",
    "print(\"Rows (approx):\", df.shape[0].compute())\n",
    "print(\"Columns:\", df.shape[1])\n"
   ]
  },
  {
   "cell_type": "code",
   "execution_count": 19,
   "id": "e959ab1c",
   "metadata": {},
   "outputs": [],
   "source": [
    "import pandas as pd\n",
    "\n",
    "# Drop rows with any missing values\n",
    "df = df.map_partitions(lambda df_part: df_part.dropna(how='any'), meta=pd.DataFrame(columns=df.columns))\n"
   ]
  },
  {
   "cell_type": "code",
   "execution_count": 20,
   "id": "dbda58ab",
   "metadata": {},
   "outputs": [
    {
     "name": "stdout",
     "output_type": "stream",
     "text": [
      "[########################################] | 100% Completed | 1.41 ss\n",
      "[########################################] | 100% Completed | 1.51 s\n",
      "[########################################] | 100% Completed | 1.61 s\n",
      "[########################################] | 100% Completed | 1.72 s\n"
     ]
    },
    {
     "data": {
      "text/plain": [
       "Region            0\n",
       "Country           0\n",
       "Item Type         0\n",
       "Sales Channel     0\n",
       "Order Priority    0\n",
       "Order Date        0\n",
       "Order ID          0\n",
       "Ship Date         0\n",
       "Units Sold        0\n",
       "Unit Price        0\n",
       "Unit Cost         0\n",
       "Total Revenue     0\n",
       "Total Cost        0\n",
       "Total Profit      0\n",
       "dtype: int64"
      ]
     },
     "execution_count": 20,
     "metadata": {},
     "output_type": "execute_result"
    }
   ],
   "source": [
    "df.isnull().sum().compute()\n"
   ]
  },
  {
   "cell_type": "code",
   "execution_count": 23,
   "id": "a5630151",
   "metadata": {},
   "outputs": [
    {
     "data": {
      "text/plain": [
       "Index(['Region', 'Country', 'Item Type', 'Sales Channel', 'Order Priority',\n",
       "       'Order Date', 'Order ID', 'Ship Date', 'Units Sold', 'Unit Price',\n",
       "       'Unit Cost', 'Total Revenue', 'Total Cost', 'Total Profit'],\n",
       "      dtype='object')"
      ]
     },
     "execution_count": 23,
     "metadata": {},
     "output_type": "execute_result"
    }
   ],
   "source": [
    "df.columns\n"
   ]
  },
  {
   "cell_type": "code",
   "execution_count": 24,
   "id": "825c236d",
   "metadata": {
    "scrolled": true
   },
   "outputs": [],
   "source": [
    "import dask.dataframe as dd\n",
    "\n",
    "# Convert date columns to datetime\n",
    "df['Order Date'] = dd.to_datetime(df['Order Date'])\n",
    "df['Ship Date'] = dd.to_datetime(df['Ship Date'])\n",
    "\n"
   ]
  },
  {
   "cell_type": "markdown",
   "id": "262cde08",
   "metadata": {},
   "source": [
    "# Feature engineering from dates"
   ]
  },
  {
   "cell_type": "code",
   "execution_count": 25,
   "id": "43f5e4c6",
   "metadata": {},
   "outputs": [],
   "source": [
    "# Extract features from 'Order Date'\n",
    "df['order_year'] = df['Order Date'].dt.year\n",
    "df['order_month'] = df['Order Date'].dt.month\n",
    "df['order_day'] = df['Order Date'].dt.day\n",
    "df['order_weekday'] = df['Order Date'].dt.dayofweek  # 0 = Monday\n",
    "\n",
    "# Extract shipping duration\n",
    "df['shipping_duration_days'] = (df['Ship Date'] - df['Order Date']).dt.days\n"
   ]
  },
  {
   "cell_type": "markdown",
   "id": "a6adbf32",
   "metadata": {},
   "source": [
    "# Perform group by Aggregations"
   ]
  },
  {
   "cell_type": "code",
   "execution_count": null,
   "id": "4e5f6ca0",
   "metadata": {},
   "outputs": [],
   "source": [
    "# Total orders per year"
   ]
  },
  {
   "cell_type": "code",
   "execution_count": 26,
   "id": "6ade011e",
   "metadata": {},
   "outputs": [
    {
     "name": "stdout",
     "output_type": "stream",
     "text": [
      "[########################################] | 100% Completed | 1.73 ss\n",
      "[########################################] | 100% Completed | 1.83 s\n",
      "[########################################] | 100% Completed | 1.94 s\n",
      "[########################################] | 100% Completed | 2.02 s\n",
      "   order_year  total_orders\n",
      "0        2010         13076\n",
      "1        2011         13224\n",
      "2        2012         13204\n",
      "3        2013         13357\n",
      "4        2014         13209\n",
      "5        2015         13180\n",
      "6        2016         13192\n",
      "7        2017          7558\n"
     ]
    }
   ],
   "source": [
    "orders_per_year = df.groupby('order_year').size().compute().reset_index(name='total_orders')\n",
    "print(orders_per_year)\n"
   ]
  },
  {
   "cell_type": "code",
   "execution_count": null,
   "id": "028956e8",
   "metadata": {},
   "outputs": [],
   "source": [
    "# Total revenue per region"
   ]
  },
  {
   "cell_type": "code",
   "execution_count": 27,
   "id": "7b38006a",
   "metadata": {},
   "outputs": [
    {
     "name": "stdout",
     "output_type": "stream",
     "text": [
      "[########################################] | 100% Completed | 1.71 ss\n",
      "[########################################] | 100% Completed | 1.82 s\n",
      "[########################################] | 100% Completed | 1.92 s\n",
      "[########################################] | 100% Completed | 2.02 s\n",
      "                              Region  Total Revenue\n",
      "0                               Asia   1.929340e+10\n",
      "1              Australia and Oceania   1.070152e+10\n",
      "2  Central America and the Caribbean   1.455373e+10\n",
      "3                             Europe   3.424115e+10\n",
      "4       Middle East and North Africa   1.692141e+10\n",
      "5                      North America   2.937002e+09\n",
      "6                 Sub-Saharan Africa   3.495845e+10\n"
     ]
    }
   ],
   "source": [
    "revenue_by_region = df.groupby('Region')['Total Revenue'].sum().compute().reset_index()\n",
    "print(revenue_by_region)\n"
   ]
  },
  {
   "cell_type": "code",
   "execution_count": null,
   "id": "fb2ef9bc",
   "metadata": {},
   "outputs": [],
   "source": [
    "# Average shipping duration per country"
   ]
  },
  {
   "cell_type": "code",
   "execution_count": 28,
   "id": "c7c6aad3",
   "metadata": {},
   "outputs": [
    {
     "name": "stdout",
     "output_type": "stream",
     "text": [
      "[########################################] | 100% Completed | 1.68 ss\n",
      "[########################################] | 100% Completed | 1.78 s\n",
      "[########################################] | 100% Completed | 1.89 s\n",
      "[########################################] | 100% Completed | 1.99 s\n",
      "          Country  shipping_duration_days\n",
      "0     Afghanistan               25.206897\n",
      "1         Albania               25.917466\n",
      "2         Algeria               24.490385\n",
      "3         Andorra               26.173832\n",
      "4          Angola               25.257669\n",
      "..            ...                     ...\n",
      "180  Vatican City               25.215254\n",
      "181       Vietnam               25.148855\n",
      "182         Yemen               25.437828\n",
      "183        Zambia               25.658041\n",
      "184      Zimbabwe               24.519685\n",
      "\n",
      "[185 rows x 2 columns]\n"
     ]
    }
   ],
   "source": [
    "avg_shipping = df.groupby('Country')['shipping_duration_days'].mean().compute().reset_index()\n",
    "print(avg_shipping)\n"
   ]
  },
  {
   "cell_type": "markdown",
   "id": "48cdd25a",
   "metadata": {},
   "source": [
    "# Sort and Find Top Performers"
   ]
  },
  {
   "cell_type": "code",
   "execution_count": null,
   "id": "e18baac6",
   "metadata": {},
   "outputs": [],
   "source": [
    "# Top 5 countries by profit"
   ]
  },
  {
   "cell_type": "code",
   "execution_count": 29,
   "id": "aeede52d",
   "metadata": {},
   "outputs": [
    {
     "name": "stdout",
     "output_type": "stream",
     "text": [
      "[########################################] | 100% Completed | 1.94 ss\n",
      "[########################################] | 100% Completed | 2.04 s\n",
      "[########################################] | 100% Completed | 2.14 s\n",
      "[########################################] | 100% Completed | 2.24 s\n",
      "                          Country  Total Profit\n",
      "0                           Sudan  2.495235e+08\n",
      "1                         Hungary  2.418608e+08\n",
      "2  Federated States of Micronesia  2.410453e+08\n",
      "3                         Liberia  2.391143e+08\n",
      "4                       Australia  2.385985e+08\n"
     ]
    }
   ],
   "source": [
    "top_profit_countries = df.groupby('Country')['Total Profit'].sum().compute().nlargest(5).reset_index()\n",
    "print(top_profit_countries)\n"
   ]
  },
  {
   "cell_type": "markdown",
   "id": "af564e95",
   "metadata": {},
   "source": [
    "# Visualize Insights"
   ]
  },
  {
   "cell_type": "code",
   "execution_count": 30,
   "id": "4f83519a",
   "metadata": {},
   "outputs": [
    {
     "data": {
      "image/png": "[encoded data removed]",
      "text/plain": [
       "<Figure size 1000x500 with 1 Axes>"
      ]
     },
     "metadata": {},
     "output_type": "display_data"
    }
   ],
   "source": [
    "import matplotlib.pyplot as plt\n",
    "import seaborn as sns\n",
    "\n",
    "# Plot revenue by region\n",
    "plt.figure(figsize=(10,5))\n",
    "sns.barplot(data=revenue_by_region.sort_values('Total Revenue', ascending=False),\n",
    "            x='Region', y='Total Revenue')\n",
    "plt.title(\"Total Revenue by Region\")\n",
    "plt.xticks(rotation=45)\n",
    "plt.tight_layout()\n",
    "plt.show()\n"
   ]
  },
  {
   "cell_type": "code",
   "execution_count": 31,
   "id": "4eb32ae6",
   "metadata": {},
   "outputs": [
    {
     "name": "stdout",
     "output_type": "stream",
     "text": [
      "[########################################] | 100% Completed | 1.63 ss\n",
      "[########################################] | 100% Completed | 1.74 s\n",
      "[########################################] | 100% Completed | 1.84 s\n",
      "[########################################] | 100% Completed | 1.94 s\n"
     ]
    }
   ],
   "source": [
    "df.compute().to_csv(\"cleaned_large_dataset.csv\", index=False)\n"
   ]
  },
  {
   "cell_type": "markdown",
   "id": "2eeb24cf",
   "metadata": {},
   "source": [
    "# Deep Dive Analysis"
   ]
  },
  {
   "cell_type": "code",
   "execution_count": null,
   "id": "34ba96b1",
   "metadata": {},
   "outputs": [],
   "source": [
    "# (a)most profitable item types"
   ]
  },
  {
   "cell_type": "code",
   "execution_count": 32,
   "id": "eb3da7e6",
   "metadata": {},
   "outputs": [
    {
     "name": "stdout",
     "output_type": "stream",
     "text": [
      "[########################################] | 100% Completed | 2.04 ss\n",
      "[########################################] | 100% Completed | 2.14 s\n",
      "[########################################] | 100% Completed | 2.24 s\n",
      "[########################################] | 100% Completed | 2.34 s\n",
      "Item Type\n",
      "Cosmetics          7.289407e+09\n",
      "Household          6.870966e+09\n",
      "Office Supplies    5.339533e+09\n",
      "Baby Food          4.017648e+09\n",
      "Cereal             3.743319e+09\n",
      "Clothes            3.067841e+09\n",
      "Vegetables         2.604418e+09\n",
      "Meat               2.387835e+09\n",
      "Snacks             2.299288e+09\n",
      "Personal Care      1.040435e+09\n",
      "Name: Total Profit, dtype: float64\n"
     ]
    }
   ],
   "source": [
    "top_items = df.groupby('Item Type')['Total Profit'].sum().compute().sort_values(ascending=False).head(10)\n",
    "print(top_items)\n"
   ]
  },
  {
   "cell_type": "code",
   "execution_count": null,
   "id": "cdf3508a",
   "metadata": {},
   "outputs": [],
   "source": [
    "# (b) Sales Trend Over Time(Monthly)"
   ]
  },
  {
   "cell_type": "code",
   "execution_count": 33,
   "id": "5826d4e0",
   "metadata": {},
   "outputs": [
    {
     "name": "stdout",
     "output_type": "stream",
     "text": [
      "[########################################] | 100% Completed | 1.68 ss\n",
      "[########################################] | 100% Completed | 1.78 s\n",
      "[########################################] | 100% Completed | 1.80 s\n",
      "[########################################] | 100% Completed | 1.89 s\n"
     ]
    },
    {
     "data": {
      "image/png": "[encoded data removed]",
      "text/plain": [
       "<Figure size 1200x600 with 1 Axes>"
      ]
     },
     "metadata": {},
     "output_type": "display_data"
    }
   ],
   "source": [
    "monthly_sales = df.groupby(['order_year', 'order_month'])['Total Revenue'].sum().compute().reset_index()\n",
    "monthly_sales['date'] = pd.to_datetime(monthly_sales['order_year'].astype(str) + '-' + monthly_sales['order_month'].astype(str))\n",
    "monthly_sales = monthly_sales.sort_values('date')\n",
    "\n",
    "# Optional plot if using Jupyter or Streamlit\n",
    "import matplotlib.pyplot as plt\n",
    "plt.figure(figsize=(12,6))\n",
    "plt.plot(monthly_sales['date'], monthly_sales['Total Revenue'])\n",
    "plt.title(\"Monthly Revenue Trend\")\n",
    "plt.xlabel(\"Date\")\n",
    "plt.ylabel(\"Total Revenue\")\n",
    "plt.tight_layout()\n",
    "plt.show()\n"
   ]
  },
  {
   "cell_type": "code",
   "execution_count": null,
   "id": "7bba693a",
   "metadata": {},
   "outputs": [],
   "source": [
    "# (c)Coorelation between cost and profit"
   ]
  },
  {
   "cell_type": "code",
   "execution_count": 34,
   "id": "61590e5f",
   "metadata": {},
   "outputs": [
    {
     "name": "stdout",
     "output_type": "stream",
     "text": [
      "[########################################] | 100% Completed | 1.75 ss\n",
      "[########################################] | 100% Completed | 1.86 s\n",
      "[########################################] | 100% Completed | 1.96 s\n",
      "[########################################] | 100% Completed | 2.06 s\n",
      "               Total Revenue  Total Cost  Total Profit\n",
      "Total Revenue       1.000000    0.987691      0.880186\n",
      "Total Cost          0.987691    1.000000      0.795110\n",
      "Total Profit        0.880186    0.795110      1.000000\n"
     ]
    }
   ],
   "source": [
    "correlation_data = df[['Total Revenue', 'Total Cost', 'Total Profit']].compute()\n",
    "print(correlation_data.corr())\n"
   ]
  },
  {
   "cell_type": "markdown",
   "id": "63d0d4ef",
   "metadata": {},
   "source": [
    "# Scalability Demonstration"
   ]
  },
  {
   "cell_type": "code",
   "execution_count": 37,
   "id": "47f6518c",
   "metadata": {},
   "outputs": [],
   "source": [
    "df['Total Revenue'] = dd.to_numeric(df['Total Revenue'], errors='coerce')\n"
   ]
  },
  {
   "cell_type": "code",
   "execution_count": 38,
   "id": "ebbc74cf",
   "metadata": {},
   "outputs": [
    {
     "name": "stdout",
     "output_type": "stream",
     "text": [
      "[########################################] | 100% Completed | 1.61 ss\n",
      "[########################################] | 100% Completed | 1.71 s\n",
      "[########################################] | 100% Completed | 1.81 s\n",
      "[########################################] | 100% Completed | 1.92 s\n"
     ]
    }
   ],
   "source": [
    "_ = df.groupby('Country')['Total Revenue'].mean().compute()"
   ]
  },
  {
   "cell_type": "markdown",
   "id": "ce619c74",
   "metadata": {},
   "source": [
    "# Export key Insights"
   ]
  },
  {
   "cell_type": "code",
   "execution_count": 42,
   "id": "929bfede",
   "metadata": {},
   "outputs": [],
   "source": [
    "import os\n",
    "\n",
    "# Create output directory\n",
    "os.makedirs(\"outputs\", exist_ok=True)\n",
    "\n",
    "# Save summary files\n",
    "orders_per_year.to_csv(\"outputs/orders_per_year.csv\", index=False)\n",
    "revenue_by_region.to_csv(\"outputs/revenue_by_region.csv\", index=False)\n",
    "top_items.to_csv(\"outputs/top_profitable_items.csv\")\n"
   ]
  },
  {
   "cell_type": "code",
   "execution_count": 44,
   "id": "37fa115a",
   "metadata": {},
   "outputs": [
    {
     "name": "stdout",
     "output_type": "stream",
     "text": [
      "Index(['order_year', 'total_orders'], dtype='object')\n"
     ]
    }
   ],
   "source": [
    "print(orders_per_year.columns)\n"
   ]
  },
  {
   "cell_type": "markdown",
   "id": "cc502b7c",
   "metadata": {},
   "source": [
    "# Plots"
   ]
  },
  {
   "cell_type": "code",
   "execution_count": 46,
   "id": "3f350bb1",
   "metadata": {},
   "outputs": [],
   "source": [
    "orders_per_year.plot(kind='bar', x='order_year', y='total_orders', legend=False)\n",
    "plt.title('Orders Per Year')\n",
    "plt.xlabel('Year')\n",
    "plt.ylabel('Number of Orders')\n",
    "plt.tight_layout()\n",
    "plt.savefig('outputs/orders_per_year.png')  # Make sure 'outputs' folder exists\n",
    "plt.close()\n"
   ]
  },
  {
   "cell_type": "code",
   "execution_count": 48,
   "id": "0ae00a61",
   "metadata": {},
   "outputs": [
    {
     "name": "stdout",
     "output_type": "stream",
     "text": [
      "Index(['Region', 'Total Revenue'], dtype='object')\n"
     ]
    }
   ],
   "source": [
    "print(revenue_by_region.columns)\n"
   ]
  },
  {
   "cell_type": "code",
   "execution_count": 49,
   "id": "c57baa71",
   "metadata": {},
   "outputs": [],
   "source": [
    "revenue_by_region.plot(kind='bar', x='Region', y='Total Revenue', legend=False, color='skyblue')\n",
    "plt.title('Revenue by Region')\n",
    "plt.xlabel('Region')\n",
    "plt.ylabel('Revenue')\n",
    "plt.xticks(rotation=45)\n",
    "plt.tight_layout()\n",
    "plt.savefig('outputs/revenue_by_region.png')\n",
    "plt.close()\n"
   ]
  },
  {
   "cell_type": "code",
   "execution_count": 55,
   "id": "9323921c",
   "metadata": {},
   "outputs": [],
   "source": [
    "top_items.plot(kind='barh', x='Item Name', y='Total Profit', legend=False, color='seagreen')\n",
    "plt.title('Top Profitable Items')\n",
    "plt.xlabel('Total Profit')\n",
    "plt.ylabel('Item Name')\n",
    "plt.tight_layout()\n",
    "plt.savefig('outputs/top_profitable_items.png')\n",
    "plt.close()\n"
   ]
  },
  {
   "cell_type": "code",
   "execution_count": 57,
   "id": "25c13831",
   "metadata": {},
   "outputs": [
    {
     "name": "stdout",
     "output_type": "stream",
     "text": [
      "Item Type\n",
      "Cosmetics          7.289407e+09\n",
      "Household          6.870966e+09\n",
      "Office Supplies    5.339533e+09\n",
      "Baby Food          4.017648e+09\n",
      "Cereal             3.743319e+09\n",
      "Clothes            3.067841e+09\n",
      "Vegetables         2.604418e+09\n",
      "Meat               2.387835e+09\n",
      "Snacks             2.299288e+09\n",
      "Personal Care      1.040435e+09\n",
      "Name: Total Profit, dtype: float64\n"
     ]
    }
   ],
   "source": [
    "print(top_items)"
   ]
  },
  {
   "cell_type": "code",
   "execution_count": 58,
   "id": "7921faec",
   "metadata": {},
   "outputs": [
    {
     "name": "stdout",
     "output_type": "stream",
     "text": [
      "Top profitable item: Cosmetics\n"
     ]
    }
   ],
   "source": [
    "print(f\"Top profitable item: {top_items.index[0]}\")\n"
   ]
  },
  {
   "cell_type": "markdown",
   "id": "009ffa3e",
   "metadata": {},
   "source": [
    "# Insights"
   ]
  },
  {
   "cell_type": "code",
   "execution_count": 60,
   "id": "8275877a",
   "metadata": {},
   "outputs": [
    {
     "name": "stdout",
     "output_type": "stream",
     "text": [
      "📝 Insights:\n",
      "Total orders increased from 2010 to 2017\n",
      "Top region by revenue: Sub-Saharan Africa\n",
      "Top profitable item: Cosmetics\n"
     ]
    }
   ],
   "source": [
    "# Extracting values from your data\n",
    "start_year = orders_per_year['order_year'].min()\n",
    "end_year = orders_per_year['order_year'].max()\n",
    "\n",
    "top_region = revenue_by_region.loc[revenue_by_region['Total Revenue'].idxmax(), 'Region']\n",
    "\n",
    "top_item = top_items.index[0]  # Since top_items is a Series with Item Type as index\n",
    "\n",
    "# Printing insights\n",
    "print(\"📝 Insights:\")\n",
    "print(f\"Total orders increased from {start_year} to {end_year}\")\n",
    "print(f\"Top region by revenue: {top_region}\")\n",
    "print(f\"Top profitable item: {top_item}\")\n"
   ]
  },
  {
   "cell_type": "code",
   "execution_count": null,
   "id": "28bcf3dc",
   "metadata": {},
   "outputs": [],
   "source": []
  }
 ],
 "metadata": {
  "kernelspec": {
   "display_name": "Python 3 (ipykernel)",
   "language": "python",
   "name": "python3"
  },
  "language_info": {
   "codemirror_mode": {
    "name": "ipython",
    "version": 3
   },
   "file_extension": ".py",
   "mimetype": "text/x-python",
   "name": "python",
   "nbconvert_exporter": "python",
   "pygments_lexer": "ipython3",
   "version": "3.10.9"
  }
 },
 "nbformat": 4,
 "nbformat_minor": 5
}
